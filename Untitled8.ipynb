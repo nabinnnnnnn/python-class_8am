{
 "cells": [
  {
   "cell_type": "code",
   "execution_count": null,
   "id": "2df27584-f17e-4d2c-ac07-8a7fb499c9c8",
   "metadata": {},
   "outputs": [],
   "source": [
    "#nested if elsestatement"
   ]
  },
  {
   "cell_type": "code",
   "execution_count": null,
   "id": "51ebcebb-da4b-4580-9aa3-887a1217fe59",
   "metadata": {},
   "outputs": [],
   "source": [
    "if<condition>:\n",
    "    <operation>\n",
    "else:\n",
    "    <condition>\n",
    "else:\n",
    "<condition>:\n",
    "\n",
    "    "
   ]
  },
  {
   "cell_type": "code",
   "execution_count": 2,
   "id": "b44c8871-9b24-4966-8d32-16d5853f9a48",
   "metadata": {},
   "outputs": [
    {
     "ename": "IndentationError",
     "evalue": "unindent does not match any outer indentation level (<string>, line 5)",
     "output_type": "error",
     "traceback": [
      "\u001b[1;36m  File \u001b[1;32m<string>:5\u001b[1;36m\u001b[0m\n\u001b[1;33m    else:\u001b[0m\n\u001b[1;37m         ^\u001b[0m\n\u001b[1;31mIndentationError\u001b[0m\u001b[1;31m:\u001b[0m unindent does not match any outer indentation level\n"
     ]
    }
   ],
   "source": []
  },
  {
   "cell_type": "code",
   "execution_count": 3,
   "id": "c706a250-79ad-4875-bc49-fe4e7fab28bf",
   "metadata": {},
   "outputs": [
    {
     "name": "stdin",
     "output_type": "stream",
     "text": [
      "Enter x =  12\n"
     ]
    },
    {
     "name": "stdout",
     "output_type": "stream",
     "text": [
      "the value is +ve and even\n"
     ]
    }
   ],
   "source": [
    "x = int(input(\"Enter x = \"))\n",
    "if x >=0:\n",
    "    if x % 2 ==0:\n",
    "        print(\"the value is +ve and even\")\n",
    "    else:\n",
    "        print(\"the value is +ve and odd\")\n",
    "else:\n",
    "    if x%2 == 0 :\n",
    "        print(\"The value is -ve and even\")\n",
    "    else:\n",
    "        print(\"The value is _ve and odd\")\n",
    "        "
   ]
  },
  {
   "cell_type": "code",
   "execution_count": null,
   "id": "46504071-f086-4185-a31e-0adada3d5d8a",
   "metadata": {},
   "outputs": [],
   "source": [
    "# and or not"
   ]
  },
  {
   "cell_type": "code",
   "execution_count": 5,
   "id": "e9872c56-f179-46ff-b468-340af6139cad",
   "metadata": {},
   "outputs": [
    {
     "name": "stdout",
     "output_type": "stream",
     "text": [
      "True\n",
      "True\n",
      "True\n",
      "False\n"
     ]
    }
   ],
   "source": [
    "#or\n",
    "print(True or True)\n",
    "print(True or False)\n",
    "print(False or True)\n",
    "print(False or False)\n"
   ]
  },
  {
   "cell_type": "code",
   "execution_count": 7,
   "id": "46876ee3-4455-4775-be66-6bde4cd9202c",
   "metadata": {},
   "outputs": [
    {
     "name": "stdout",
     "output_type": "stream",
     "text": [
      "True\n",
      "False\n",
      "False\n",
      "False\n"
     ]
    }
   ],
   "source": [
    "#and\n",
    "print(True and True)\n",
    "print(True and False)\n",
    "print(False and True)\n",
    "print(False and False)\n"
   ]
  },
  {
   "cell_type": "code",
   "execution_count": 11,
   "id": "c5f461db-ccc2-44b7-9d4e-a62a57a5364d",
   "metadata": {},
   "outputs": [
    {
     "name": "stdin",
     "output_type": "stream",
     "text": [
      "Enter Physics marks =  86\n",
      "Enter Chemsistry marks = 45\n",
      "Enter Math marks = 12\n",
      "Enter English marks = 6\n",
      "Enter Nepali marks = 45\n"
     ]
    },
    {
     "name": "stdout",
     "output_type": "stream",
     "text": [
      "Total marks =  NAAN\n",
      "per =  NAAN\n",
      "grade =  F\n"
     ]
    }
   ],
   "source": [
    "physics = int(input(\"Enter Physics marks = \"))\n",
    "chemistry = int(input(\"Enter Chemsistry marks =\"))\n",
    "math = int(input(\"Enter Math marks =\"))\n",
    "english = int(input(\"Enter English marks =\"))\n",
    "nepali = int(input(\"Enter Nepali marks =\"))\n",
    "if physics>=32 and chemistry>32 and math>32 and english>32 and nepali>=32:\n",
    "    total = physis + chemistry + math + english + nepali\n",
    "    per = total/5\n",
    "    if per >=80:\n",
    "        grade = 'A'\n",
    "    elif per >=60:\n",
    "        grade ='B'\n",
    "    elif per >=45:\n",
    "        grade ='C'\n",
    "    else:\n",
    "        grade = 'D' \n",
    "else:\n",
    "    grade = 'F'\n",
    "    total = \"NAAN\"\n",
    "    per = \"NAAN\"\n",
    "print(\"Total marks = \", total)\n",
    "print(\"per = \" , per)\n",
    "print(\"grade = \", grade)\n",
    "\n",
    "    "
   ]
  },
  {
   "cell_type": "code",
   "execution_count": 13,
   "id": "f5e1e10b-96f7-47af-9b7b-51567b818ebb",
   "metadata": {},
   "outputs": [
    {
     "name": "stdin",
     "output_type": "stream",
     "text": [
      "Enter Physics marks =  12\n",
      "Enter Chemsistry marks = 89\n",
      "Enter Math marks = 45\n",
      "Enter English marks = 14\n",
      "Enter Nepali marks = 80\n"
     ]
    },
    {
     "name": "stdout",
     "output_type": "stream",
     "text": [
      "Total marks =  240\n",
      "per =  48.0\n",
      "grade =  D\n"
     ]
    }
   ],
   "source": [
    "physics = int(input(\"Enter Physics marks = \"))\n",
    "chemistry = int(input(\"Enter Chemsistry marks =\"))\n",
    "math = int(input(\"Enter Math marks =\"))\n",
    "english = int(input(\"Enter English marks =\"))\n",
    "nepali = int(input(\"Enter Nepali marks =\"))\n",
    "total = physics + chemistry + math + english + nepali\n",
    "per = total/5\n",
    "if physics>=32 and chemistry>32 and math>32 and english>32 and nepali>=32:\n",
    "\n",
    "    if per >=80:\n",
    "        grade = 'A'\n",
    "    elif per >=60:\n",
    "        grade ='B'\n",
    "    elif per >=45:\n",
    "        grade ='C'\n",
    "else:\n",
    "        grade = 'D' \n",
    "print(\"Total marks = \", total)\n",
    "print(\"per = \" , per)\n",
    "print(\"grade = \", grade)\n",
    "\n",
    "    "
   ]
  },
  {
   "cell_type": "code",
   "execution_count": 6,
   "id": "bd2a4ed8-47a0-421e-98f2-fd54a5ebfffb",
   "metadata": {},
   "outputs": [
    {
     "ename": "SyntaxError",
     "evalue": "invalid syntax. Perhaps you forgot a comma? (640082840.py, line 1)",
     "output_type": "error",
     "traceback": [
      "\u001b[1;36m  Cell \u001b[1;32mIn[6], line 1\u001b[1;36m\u001b[0m\n\u001b[1;33m    a = int(input(\"Enter a = \")\u001b[0m\n\u001b[1;37m            ^\u001b[0m\n\u001b[1;31mSyntaxError\u001b[0m\u001b[1;31m:\u001b[0m invalid syntax. Perhaps you forgot a comma?\n"
     ]
    }
   ],
   "source": [
    "a = int(input(\"Enter a = \"))\n",
    "b = int(input(\"Enter b = \"))\n",
    "o = input(\"Enter + or - or * or / \")\n",
    "if o == \"+\":\n",
    "    print(a+b)\n",
    "elif o == \"-\":\n",
    "    print(a-b)\n",
    "elif o == \"*\":\n",
    "    print(a*b)\n",
    "elif o == \"/\":\n",
    "    if b =!=0:\n",
    "        print(a/b)\n",
    "    else:\n",
    "        print(\"The value of b can not be zero\"):\n",
    " else:\n",
    "     print(\"Invaild operator\")\n",
    "\n",
    "    \n",
    "\n",
    "        "
   ]
  },
  {
   "cell_type": "code",
   "execution_count": 7,
   "id": "fb5fe5eb-93e0-47e6-8200-1c8d8da53105",
   "metadata": {},
   "outputs": [
    {
     "ename": "SyntaxError",
     "evalue": "invalid syntax (1348586754.py, line 11)",
     "output_type": "error",
     "traceback": [
      "\u001b[1;36m  Cell \u001b[1;32mIn[7], line 11\u001b[1;36m\u001b[0m\n\u001b[1;33m    if b =!=0:\u001b[0m\n\u001b[1;37m         ^\u001b[0m\n\u001b[1;31mSyntaxError\u001b[0m\u001b[1;31m:\u001b[0m invalid syntax\n"
     ]
    }
   ],
   "source": [
    "a = int(input(\"Enter a = \"))\n",
    "b = int(input(\"Enter b = \"))\n",
    "o = input(\"Enter + or - or * or /   \")\n",
    "if o == \"+\":\n",
    "    print(a+b)\n",
    "elif o == \"-\":\n",
    "    print(a-b)\n",
    "elif o == \"*\":\n",
    "    print(a*b)\n",
    "elif o == \"/\":\n",
    "   "
   ]
  },
  {
   "cell_type": "code",
   "execution_count": null,
   "id": "3d0c1277-9e57-4ed1-a8e7-09fe40b0940a",
   "metadata": {},
   "outputs": [],
   "source": []
  }
 ],
 "metadata": {
  "kernelspec": {
   "display_name": "Python 3 (ipykernel)",
   "language": "python",
   "name": "python3"
  },
  "language_info": {
   "codemirror_mode": {
    "name": "ipython",
    "version": 3
   },
   "file_extension": ".py",
   "mimetype": "text/x-python",
   "name": "python",
   "nbconvert_exporter": "python",
   "pygments_lexer": "ipython3",
   "version": "3.12.2"
  }
 },
 "nbformat": 4,
 "nbformat_minor": 5
}
