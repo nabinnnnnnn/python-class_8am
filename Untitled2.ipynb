{
 "cells": [
  {
   "cell_type": "code",
   "execution_count": 4,
   "id": "294f627d-2b70-4980-a678-423b6dd6d15c",
   "metadata": {},
   "outputs": [
    {
     "name": "stdin",
     "output_type": "stream",
     "text": [
      "Enter the principle 10\n",
      "Enter the time 12\n",
      "Enter the rate 15\n"
     ]
    },
    {
     "name": "stdout",
     "output_type": "stream",
     "text": [
      "simple intrest 18.0\n"
     ]
    }
   ],
   "source": [
    "p=int(input(\"Enter the principle\"))\n",
    "t=int(input(\"Enter the time\"))\n",
    "r=int(input(\"Enter the rate\"))\n",
    "si=p*t*r/100\n",
    "print(\"simple intrest\",si)"
   ]
  },
  {
   "cell_type": "code",
   "execution_count": null,
   "id": "dfdffa92-f85d-4213-a748-a61b6f4cab65",
   "metadata": {},
   "outputs": [],
   "source": [
    "WAP to take subject marks from user and find total and percentange"
   ]
  },
  {
   "cell_type": "code",
   "execution_count": null,
   "id": "b66f3847-fb2f-4791-8869-c99f03322f33",
   "metadata": {},
   "outputs": [],
   "source": [
    "m=int(input(\"Enter the marks\")\n",
    "s=int(input(\"Enter the marks\")\n",
    "n=int(input(\"Enter the marks\")\n",
    "s=int(input(\"Enter the marks\")\n",
    "c=int(input(\"Enter the marks\")\n",
    "p=total/500\n",
    "print total(m+s+n+s+"
   ]
  },
  {
   "cell_type": "code",
   "execution_count": null,
   "id": "7085a1cc-53cc-4dbb-bb3d-839c112aee08",
   "metadata": {},
   "outputs": [],
   "source": []
  }
 ],
 "metadata": {
  "kernelspec": {
   "display_name": "Python 3 (ipykernel)",
   "language": "python",
   "name": "python3"
  },
  "language_info": {
   "codemirror_mode": {
    "name": "ipython",
    "version": 3
   },
   "file_extension": ".py",
   "mimetype": "text/x-python",
   "name": "python",
   "nbconvert_exporter": "python",
   "pygments_lexer": "ipython3",
   "version": "3.12.2"
  }
 },
 "nbformat": 4,
 "nbformat_minor": 5
}
