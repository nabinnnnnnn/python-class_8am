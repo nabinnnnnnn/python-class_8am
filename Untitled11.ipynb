{
 "cells": [
  {
   "cell_type": "code",
   "execution_count": 1,
   "id": "b60f85f4-8e95-4fc5-a85f-310670a91a73",
   "metadata": {},
   "outputs": [],
   "source": [
    "#pass\n",
    "for i in range(5):\n",
    "    pass"
   ]
  },
  {
   "cell_type": "code",
   "execution_count": null,
   "id": "af0b4f7d-f1d4-4149-8395-7bfe166af223",
   "metadata": {},
   "outputs": [],
   "source": []
  },
  {
   "cell_type": "code",
   "execution_count": 2,
   "id": "8a2dcf74-ea07-41a4-ac69-ecffb81c97fd",
   "metadata": {},
   "outputs": [],
   "source": [
    "a = 10 \n",
    "if a %2 ==0:\n",
    "    pass"
   ]
  },
  {
   "cell_type": "code",
   "execution_count": null,
   "id": "ab3eacf7-b2c5-4fe1-b490-78cc2158937b",
   "metadata": {},
   "outputs": [],
   "source": [
    "#while loop\n"
   ]
  },
  {
   "cell_type": "code",
   "execution_count": null,
   "id": "305e8586-0e5f-469a-9b71-666b4ac97883",
   "metadata": {},
   "outputs": [],
   "source": [
    "# while <condition>:\n",
    "#     <operation>"
   ]
  },
  {
   "cell_type": "code",
   "execution_count": 3,
   "id": "3bc2f3a4-558f-409f-a755-6bf802f86eda",
   "metadata": {},
   "outputs": [
    {
     "name": "stdout",
     "output_type": "stream",
     "text": [
      "Hello World\n",
      "Hello World\n",
      "Hello World\n",
      "Hello World\n",
      "Hello World\n"
     ]
    }
   ],
   "source": [
    "a = 0\n",
    "while a < 5:\n",
    "    print(\"Hello World\")\n",
    "    a = a + 1"
   ]
  },
  {
   "cell_type": "code",
   "execution_count": 4,
   "id": "7dd023bf-47f5-4004-9f03-1349e947346f",
   "metadata": {},
   "outputs": [
    {
     "name": "stdout",
     "output_type": "stream",
     "text": [
      "1 Hello World\n",
      "1.5 Hello World\n",
      "2.0 Hello World\n",
      "2.5 Hello World\n",
      "3.0 Hello World\n",
      "3.5 Hello World\n",
      "4.0 Hello World\n",
      "4.5 Hello World\n"
     ]
    }
   ],
   "source": [
    "a = 1\n",
    "while a < 5:\n",
    "    print( a,\"Hello World\")\n",
    "    a = a + 0.5"
   ]
  },
  {
   "cell_type": "code",
   "execution_count": 5,
   "id": "802695eb-849a-4558-b16e-1910548934b8",
   "metadata": {},
   "outputs": [
    {
     "name": "stdin",
     "output_type": "stream",
     "text": [
      "Enter x =  5\n"
     ]
    },
    {
     "name": "stdout",
     "output_type": "stream",
     "text": [
      "5 * 1 = 5\n",
      "5 * 2 = 10\n",
      "5 * 3 = 15\n",
      "5 * 4 = 20\n",
      "5 * 5 = 25\n",
      "5 * 6 = 30\n",
      "5 * 7 = 35\n",
      "5 * 8 = 40\n",
      "5 * 9 = 45\n",
      "5 * 10 = 50\n"
     ]
    }
   ],
   "source": [
    "i = 1\n",
    "x = int(input(\"Enter x = \"))\n",
    "while i<=10:\n",
    "    print(x,\"*\",i,\"=\",i*x)\n",
    "    i = i+1\n",
    "              "
   ]
  },
  {
   "cell_type": "code",
   "execution_count": 7,
   "id": "41be56c6-3815-470e-9fe4-3fd54c1ae393",
   "metadata": {},
   "outputs": [
    {
     "name": "stdin",
     "output_type": "stream",
     "text": [
      "Enter n =  5\n"
     ]
    }
   ],
   "source": [
    "fac = 1\n",
    "n = int(input(\"Enter n = \"))\n",
    "while i<=n:\n",
    "    fac = fac * i\n",
    "    i = i+1\n",
    "    print(fac)"
   ]
  },
  {
   "cell_type": "code",
   "execution_count": 8,
   "id": "1fc4f3ee-2143-4721-8528-9379d594aeb9",
   "metadata": {},
   "outputs": [
    {
     "name": "stdin",
     "output_type": "stream",
     "text": [
      "Enter n =  2\n",
      "Enter name =  ram\n",
      "Enter price =  100\n",
      "Enter quantity =  3\n",
      "Enter name =  shyam\n",
      "Enter price =  200\n",
      "Enter quantity =  3\n",
      "Enter name =  ram\n",
      "Enter price =  2\n",
      "Enter quantity =  1\n"
     ]
    },
    {
     "name": "stdout",
     "output_type": "stream",
     "text": [
      "ram 100 3 300\n",
      "shyam 200 3 600\n",
      "ram 2 1 2\n",
      "\n",
      "902\n"
     ]
    }
   ],
   "source": [
    "n = int(input(\"Enter n = \")) \n",
    "i = 0\n",
    "all_total = 0\n",
    "bill = \"\"\n",
    "while i <=n:\n",
    "    name = input(\"Enter name = \")\n",
    "    price = int(input(\"Enter price = \"))\n",
    "    quantity = int(input(\"Enter quantity = \"))\n",
    "    total = price * quantity\n",
    "    bill = bill + name + \" \" + str(price) + \" \" +str(quantity) + \" \" +str(total) + \"\\n\"\n",
    "    all_total = all_total + total\n",
    "    i = i+1\n",
    "print(bill)\n",
    "print(all_total)"
   ]
  },
  {
   "cell_type": "code",
   "execution_count": null,
   "id": "e054365a-63d8-4a06-a4a8-0b5d57849ba8",
   "metadata": {},
   "outputs": [],
   "source": [
    "#break in while"
   ]
  },
  {
   "cell_type": "code",
   "execution_count": 9,
   "id": "1fc54d0a-3cd7-4cbb-9787-766cef7e0449",
   "metadata": {},
   "outputs": [
    {
     "name": "stdout",
     "output_type": "stream",
     "text": [
      "0\n",
      "1\n",
      "2\n",
      "3\n",
      "4\n"
     ]
    }
   ],
   "source": [
    "#break\n",
    "i = 0\n",
    "while i<=10:\n",
    "    if i ==5:\n",
    "        break\n",
    "    print(i)\n",
    "    i = i+1"
   ]
  },
  {
   "cell_type": "code",
   "execution_count": null,
   "id": "b957d019-3d5c-4e8a-bf42-b030303199c0",
   "metadata": {},
   "outputs": [
    {
     "name": "stdout",
     "output_type": "stream",
     "text": [
      "0 1 2 3 4 "
     ]
    }
   ],
   "source": [
    "i = 0\n",
    "while i<=10:\n",
    "    if i == 5:\n",
    "          continue\n",
    "    print(i,end = \" \")\n",
    "    i = i+1"
   ]
  },
  {
   "cell_type": "code",
   "execution_count": null,
   "id": "26db86d5-bf5f-462b-ba9e-669664ace20c",
   "metadata": {},
   "outputs": [],
   "source": [
    "#WAP to find if the given no is prime or composite"
   ]
  },
  {
   "cell_type": "code",
   "execution_count": null,
   "id": "07223c67-769d-4658-8f16-11c299e03832",
   "metadata": {},
   "outputs": [],
   "source": [
    "n = input(\"Enter n = \")\n",
    "i = 0\n"
   ]
  }
 ],
 "metadata": {
  "kernelspec": {
   "display_name": "Python 3 (ipykernel)",
   "language": "python",
   "name": "python3"
  },
  "language_info": {
   "codemirror_mode": {
    "name": "ipython",
    "version": 3
   },
   "file_extension": ".py",
   "mimetype": "text/x-python",
   "name": "python",
   "nbconvert_exporter": "python",
   "pygments_lexer": "ipython3",
   "version": "3.12.2"
  }
 },
 "nbformat": 4,
 "nbformat_minor": 5
}
