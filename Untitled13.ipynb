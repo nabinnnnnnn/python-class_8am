{
 "cells": [
  {
   "cell_type": "code",
   "execution_count": null,
   "id": "79f8ebfa-49f1-4565-8756-fdc3f6af48b5",
   "metadata": {},
   "outputs": [],
   "source": [
    "# Python collection\n",
    "# List\n",
    "# Tuple\n",
    "# Dict\n",
    "# Set"
   ]
  },
  {
   "cell_type": "code",
   "execution_count": null,
   "id": "5338051b-b162-445d-b855-bb653fe11d5b",
   "metadata": {},
   "outputs": [],
   "source": [
    "# List\n",
    "# Multiple and duplicate data\n",
    "# Indexing\n",
    "# Ordered\n",
    "# Mutable\n"
   ]
  },
  {
   "cell_type": "code",
   "execution_count": null,
   "id": "720887db-dc78-432e-b6b8-ecc670bef60e",
   "metadata": {},
   "outputs": [],
   "source": [
    "a = list()\n",
    "b = []"
   ]
  },
  {
   "cell_type": "code",
   "execution_count": 1,
   "id": "91a7629d-edc4-48ac-8238-d7c641ca0e7c",
   "metadata": {},
   "outputs": [
    {
     "name": "stdout",
     "output_type": "stream",
     "text": [
      "<class 'list'>\n",
      "<class 'list'>\n",
      "['Apple', 'Ball', 'Cat', 'Dog', 'Fish', 'Apple']\n"
     ]
    }
   ],
   "source": [
    "a = [\"Apple\",\"Ball\",\"Cat\",\"Dog\",\"Fish\",\"Apple\"]\n",
    "b = [0,1,2,3,4,5,6,7,8,9,0]\n",
    "print(type(a))\n",
    "print(type(b))\n",
    "print(a)"
   ]
  },
  {
   "cell_type": "code",
   "execution_count": 3,
   "id": "a44237d8-28c2-44a6-a0c6-5df699959afb",
   "metadata": {},
   "outputs": [
    {
     "name": "stdout",
     "output_type": "stream",
     "text": [
      "Apple\n",
      "['Apple', 'Ball', 'Cat', 'Dog', 'Fish']\n",
      "['Apple', 'Cat', 'Fish']\n"
     ]
    }
   ],
   "source": [
    "a = [\"Apple\",\"Ball\",\"Cat\",\"Dog\",\"Fish\",\"Apple\"]\n",
    "print(a[0])\n",
    "print(a[0:5])\n",
    "print(a[0:5:2])      "
   ]
  },
  {
   "cell_type": "code",
   "execution_count": 4,
   "id": "b4cfef17-dee1-4b90-925b-911a5080a6c1",
   "metadata": {},
   "outputs": [
    {
     "name": "stdout",
     "output_type": "stream",
     "text": [
      "[1, 2, 3, 4, 5, 6, 7, 8, 9]\n"
     ]
    }
   ],
   "source": [
    "a = [1,2,3,4,5]\n",
    "b = [6,7,8,9,]\n",
    "c = a+b\n",
    "print(c)"
   ]
  },
  {
   "cell_type": "code",
   "execution_count": 5,
   "id": "fc58c1a6-c723-4097-98d6-29cd2d8000e5",
   "metadata": {},
   "outputs": [
    {
     "name": "stdout",
     "output_type": "stream",
     "text": [
      "[1, 2, 3, 4, 5, 1, 2, 3, 4, 5]\n"
     ]
    }
   ],
   "source": [
    "a =[1,2,3,4,5]\n",
    "print(a*2)"
   ]
  },
  {
   "cell_type": "code",
   "execution_count": null,
   "id": "edbd0e24-ccc5-4510-855b-112be4bd64f1",
   "metadata": {},
   "outputs": [],
   "source": [
    "#append() insert() extend()"
   ]
  },
  {
   "cell_type": "code",
   "execution_count": 6,
   "id": "a57ebad4-536d-44eb-8e6c-0175261d22d9",
   "metadata": {},
   "outputs": [
    {
     "name": "stdout",
     "output_type": "stream",
     "text": [
      "['Apple', 'Ball']\n"
     ]
    }
   ],
   "source": [
    "a = []\n",
    "a.append(\"Apple\")\n",
    "a.append(\"Ball\")\n",
    "print(a)"
   ]
  },
  {
   "cell_type": "code",
   "execution_count": 9,
   "id": "119bce5c-b9c9-43db-9608-1298c607f2b2",
   "metadata": {},
   "outputs": [
    {
     "name": "stdin",
     "output_type": "stream",
     "text": [
      "Enter n =  10\n",
      "Enter x =  25\n",
      "Enter x =  2\n",
      "Enter x =  24\n",
      "Enter x =  12\n",
      "Enter x =  15\n",
      "Enter x =  20\n",
      "Enter x =  23\n",
      "Enter x =  3\n",
      "Enter x =  4\n",
      "Enter x =  5\n"
     ]
    },
    {
     "name": "stdout",
     "output_type": "stream",
     "text": [
      "[25, 2, 24, 12, 15, 20, 23, 3, 4, 5]\n"
     ]
    }
   ],
   "source": [
    "l = []\n",
    "n = int(input(\"Enter n = \"))\n",
    "for i in range(n):\n",
    "        x = int(input(\"Enter x = \"))\n",
    "        l.append(x)\n",
    "print(l)"
   ]
  },
  {
   "cell_type": "code",
   "execution_count": 12,
   "id": "48064dd6-c3f7-428e-bc5d-bcd01a25888e",
   "metadata": {},
   "outputs": [
    {
     "name": "stdout",
     "output_type": "stream",
     "text": [
      "Min value =  2\n",
      "Max value =  25\n",
      "Sum value =  133\n",
      "[2, 3, 4, 5, 12, 15, 20, 23, 24, 25]\n",
      "[25, 24, 23, 20, 15, 12, 5, 4, 3, 2]\n"
     ]
    }
   ],
   "source": [
    "print(\"Min value = \",min(l))\n",
    "print(\"Max value = \",max(l))\n",
    "print(\"Sum value = \",sum(l))\n",
    "l.sort()\n",
    "print(l)\n",
    "l.reverse()\n",
    "print(l)"
   ]
  },
  {
   "cell_type": "code",
   "execution_count": 13,
   "id": "0b4fe309-2fb7-4720-912d-a0e278b53803",
   "metadata": {},
   "outputs": [
    {
     "name": "stdin",
     "output_type": "stream",
     "text": [
      "Enter n =  2\n",
      "Enter x =  ram\n",
      "Enter x =  shyam\n"
     ]
    }
   ],
   "source": [
    "l = []\n",
    "n = int(input(\"Enter n = \"))\n",
    "for i in range(n):\n",
    "    x = input(\"Enter x = \")\n",
    "    l.append(x)"
   ]
  },
  {
   "cell_type": "code",
   "execution_count": 14,
   "id": "ff3499e6-3b8a-42af-b6fe-4d22b148d4af",
   "metadata": {},
   "outputs": [
    {
     "name": "stdout",
     "output_type": "stream",
     "text": [
      "['ram', 'shyam']\n"
     ]
    }
   ],
   "source": [
    "print(l)"
   ]
  },
  {
   "cell_type": "code",
   "execution_count": 15,
   "id": "6ab45c2b-9282-4129-a0da-1a71b15ee54b",
   "metadata": {},
   "outputs": [
    {
     "name": "stdout",
     "output_type": "stream",
     "text": [
      "['ram', 'shyam']\n"
     ]
    }
   ],
   "source": [
    "l.sort()\n",
    "print(l)"
   ]
  },
  {
   "cell_type": "code",
   "execution_count": 16,
   "id": "2c21cd42-afd5-4c7e-bcc9-26117f0f4f13",
   "metadata": {},
   "outputs": [
    {
     "name": "stdout",
     "output_type": "stream",
     "text": [
      "['Gita', 'Hari', 'Shyam', 'Sita', 1, 2, 3, 4, 5]\n"
     ]
    }
   ],
   "source": [
    "# insert()\n",
    "a = ['Gita', 'Hari', 'Shyam', 'Sita']\n",
    "b = [1,2,3,4,5]\n",
    "a.extend(b)\n",
    "print(a)"
   ]
  },
  {
   "cell_type": "code",
   "execution_count": 17,
   "id": "e124468a-498f-49b9-bb12-bd99842a30e7",
   "metadata": {},
   "outputs": [
    {
     "data": {
      "text/plain": [
       "['Nita', 'Hari', 'Shyam', 'Sita', 'Harry']"
      ]
     },
     "execution_count": 17,
     "metadata": {},
     "output_type": "execute_result"
    }
   ],
   "source": [
    "#update\n",
    "a = ['Gita', 'Hari', 'Shyam', 'Sita', 'Harry',]\n",
    "a[0] = 'Nita' \n",
    "a"
   ]
  },
  {
   "cell_type": "code",
   "execution_count": 18,
   "id": "d430f8e9-1338-44b3-a38d-8714fc6616ef",
   "metadata": {},
   "outputs": [
    {
     "data": {
      "text/plain": [
       "['Jack', 'John', 'Shyam', 'Sita', 'Harry']"
      ]
     },
     "execution_count": 18,
     "metadata": {},
     "output_type": "execute_result"
    }
   ],
   "source": [
    "a = ['Gita', 'Hari', 'Shyam', 'Sita', 'Harry',]\n",
    "a[0:2] =['Jack','John']\n",
    "a"
   ]
  },
  {
   "cell_type": "code",
   "execution_count": 19,
   "id": "e32789d8-4901-4377-9814-d160f62cab87",
   "metadata": {},
   "outputs": [
    {
     "data": {
      "text/plain": [
       "['Gita', 'Steave', 'Bill', 'Hari', 'Shyam', 'Sita', 'Harry']"
      ]
     },
     "execution_count": 19,
     "metadata": {},
     "output_type": "execute_result"
    }
   ],
   "source": [
    "# insert multiple values inside certain index\n",
    "a = ['Gita', 'Hari', 'Shyam', 'Sita', 'Harry',]\n",
    "a[1:1] = [\"Steave\",\"Bill\"]\n",
    "a"
   ]
  },
  {
   "cell_type": "code",
   "execution_count": 20,
   "id": "5903b25e-09f1-48e8-843b-ca264e8add79",
   "metadata": {},
   "outputs": [
    {
     "name": "stdout",
     "output_type": "stream",
     "text": [
      "['Hari', 'Shyam', 'Sita', 'Harry']\n"
     ]
    }
   ],
   "source": [
    "# For delete del remove() pop()\n",
    "a = ['Gita', 'Hari', 'Shyam', 'Sita', 'Harry',]\n",
    "del a[0]\n",
    "print(a)"
   ]
  },
  {
   "cell_type": "code",
   "execution_count": 21,
   "id": "db19a7d4-fbb2-4e3f-aeeb-fc13ae2ef13b",
   "metadata": {},
   "outputs": [
    {
     "data": {
      "text/plain": [
       "['Shyam', 'Sita', 'Harry']"
      ]
     },
     "execution_count": 21,
     "metadata": {},
     "output_type": "execute_result"
    }
   ],
   "source": [
    "a = ['Gita', 'Hari', 'Shyam', 'Sita', 'Harry',]\n",
    "del a[0:2]\n",
    "a"
   ]
  },
  {
   "cell_type": "code",
   "execution_count": 22,
   "id": "961184ca-22e7-4c17-afd5-76969c09646e",
   "metadata": {},
   "outputs": [
    {
     "data": {
      "text/plain": [
       "['Hari', 'Shyam', 'Sita', 'Harry']"
      ]
     },
     "execution_count": 22,
     "metadata": {},
     "output_type": "execute_result"
    }
   ],
   "source": [
    "a = ['Gita', 'Hari', 'Shyam', 'Sita', 'Harry',]\n",
    "a.remove('Gita')\n",
    "a"
   ]
  },
  {
   "cell_type": "code",
   "execution_count": 23,
   "id": "f0e34959-67b8-4dad-b673-d93179747910",
   "metadata": {},
   "outputs": [
    {
     "data": {
      "text/plain": [
       "['Gita', 'Hari', 'Shyam', 'Sita']"
      ]
     },
     "execution_count": 23,
     "metadata": {},
     "output_type": "execute_result"
    }
   ],
   "source": [
    "a = ['Gita', 'Hari', 'Shyam', 'Sita', 'Harry',]\n",
    "a.pop()\n",
    "a"
   ]
  },
  {
   "cell_type": "code",
   "execution_count": 24,
   "id": "4c5a393e-26ad-474c-9fa3-871d425600dc",
   "metadata": {},
   "outputs": [
    {
     "data": {
      "text/plain": [
       "['Gita', 'Shyam', 'Sita', 'Harry']"
      ]
     },
     "execution_count": 24,
     "metadata": {},
     "output_type": "execute_result"
    }
   ],
   "source": [
    "a = ['Gita', 'Hari', 'Shyam', 'Sita', 'Harry',]\n",
    "a.pop(1)\n",
    "a"
   ]
  },
  {
   "cell_type": "code",
   "execution_count": 25,
   "id": "f41c3126-e01a-4ba4-8961-269557dafb76",
   "metadata": {},
   "outputs": [
    {
     "name": "stdout",
     "output_type": "stream",
     "text": [
      "['Gita', 'Shyam', 'Sita', 'Harry']\n",
      "Hari\n"
     ]
    }
   ],
   "source": [
    "a = ['Gita', 'Hari', 'Shyam', 'Sita', 'Harry',]\n",
    "b = a.pop(1)\n",
    "print(a)\n",
    "print(b)"
   ]
  },
  {
   "cell_type": "code",
   "execution_count": 26,
   "id": "b9d101f8-d1bb-4f95-a784-7f4283169c41",
   "metadata": {},
   "outputs": [
    {
     "name": "stdout",
     "output_type": "stream",
     "text": [
      "Gita\n",
      "Hari\n",
      "Shyam\n",
      "Sita\n",
      "Harry\n"
     ]
    }
   ],
   "source": [
    "a = ['Gita', 'Hari', 'Shyam', 'Sita', 'Harry',]\n",
    "for i in a:\n",
    "    print(i)"
   ]
  },
  {
   "cell_type": "code",
   "execution_count": 27,
   "id": "2513b6ea-1649-4be1-8f48-9eefc159ea2a",
   "metadata": {},
   "outputs": [
    {
     "data": {
      "text/plain": [
       "5"
      ]
     },
     "execution_count": 27,
     "metadata": {},
     "output_type": "execute_result"
    }
   ],
   "source": [
    "a = ['Gita', 'Hari', 'Shyam', 'Sita', 'Harry',]\n",
    "l = len(a)\n",
    "l "
   ]
  },
  {
   "cell_type": "code",
   "execution_count": 28,
   "id": "dad17598-47d5-44c1-a348-534b897d380c",
   "metadata": {},
   "outputs": [
    {
     "name": "stdout",
     "output_type": "stream",
     "text": [
      "Gita\n",
      "Hari\n",
      "Shyam\n",
      "Sita\n",
      "Harry\n"
     ]
    }
   ],
   "source": [
    "i = 0\n",
    "a = ['Gita', 'Hari', 'Shyam', 'Sita', 'Harry',]\n",
    "l = len(a)\n",
    "while i<l:\n",
    "    print(a[i])\n",
    "    i = i+1\n",
    "\n"
   ]
  },
  {
   "cell_type": "code",
   "execution_count": 29,
   "id": "c696b840-5997-4228-9993-5fe39e89ec0f",
   "metadata": {},
   "outputs": [
    {
     "data": {
      "text/plain": [
       "['Gita', 'Hari', 'Shyam', 'Sita', 'Harry']"
      ]
     },
     "execution_count": 29,
     "metadata": {},
     "output_type": "execute_result"
    }
   ],
   "source": [
    "#removing multiple values\n",
    "a = ['Gita', 'Hari', 'Shyam', 'Sita', 'Harry', 'Ram', \"Ram\"]\n",
    "a.remove(\"Ram\")\n",
    "a"
   ]
  },
  {
   "cell_type": "code",
   "execution_count": 30,
   "id": "dcab9146-a0e3-47b2-abd3-4094d9bcf3e1",
   "metadata": {},
   "outputs": [
    {
     "data": {
      "text/plain": [
       "['Gita', 'Hari', 'Shyam', 'Harry', 'Ram']"
      ]
     },
     "execution_count": 30,
     "metadata": {},
     "output_type": "execute_result"
    }
   ],
   "source": [
    "i  = 0\n",
    "a = ['Gita', 'Hari', 'Shyam', 'Sita', 'Harry', 'Ram']\n",
    "del a[3]\n",
    "a\n"
   ]
  },
  {
   "cell_type": "code",
   "execution_count": 31,
   "id": "1898ae77-c86f-4e7c-a28c-e36f4955ef06",
   "metadata": {},
   "outputs": [
    {
     "name": "stdout",
     "output_type": "stream",
     "text": [
      "['Gita', 'Hari', 'Shyam', 'Sita', 'Harry', 'Ram']\n",
      "['Gita', 'Hari', 'Shyam', 'Sita', 'Harry']\n"
     ]
    }
   ],
   "source": [
    "a = ['Gita', 'Hari', 'Shyam', 'Sita', 'Harry', 'Ram', \"Ram\"]\n",
    "c = a.count(\"Ram\")\n",
    "for i in range(c):\n",
    "    a.remove(\"Ram\")\n",
    "    print(a)"
   ]
  },
  {
   "cell_type": "code",
   "execution_count": 32,
   "id": "042696d2-954e-4a2a-91c4-0860c98386f4",
   "metadata": {},
   "outputs": [
    {
     "name": "stdout",
     "output_type": "stream",
     "text": [
      "Yes 2\n"
     ]
    }
   ],
   "source": [
    "a = ['Gita', 'Hari', 'Shyam', 'Sita', 'Harry', 'Ram', \"Ram\"]\n",
    "if \"Ram\" in a:\n",
    "    print(\"Yes\",a.count(\"Ram\"))\n",
    "else:\n",
    "    print(\"No\")"
   ]
  },
  {
   "cell_type": "code",
   "execution_count": 33,
   "id": "919792b1-4b3e-47c5-8975-825be536d9bc",
   "metadata": {},
   "outputs": [
    {
     "data": {
      "text/plain": [
       "5"
      ]
     },
     "execution_count": 33,
     "metadata": {},
     "output_type": "execute_result"
    }
   ],
   "source": [
    "a = ['Gita', 'Hari', 'Shyam', 'Sita', 'Harry', 'Ram', \"Ram\"]\n",
    "a.index(\"Ram\")"
   ]
  },
  {
   "cell_type": "code",
   "execution_count": 41,
   "id": "9602af79-704b-4ce2-b977-d7d1847b35ca",
   "metadata": {},
   "outputs": [
    {
     "ename": "IndentationError",
     "evalue": "expected an indented block after 'for' statement on line 3 (4238499385.py, line 4)",
     "output_type": "error",
     "traceback": [
      "\u001b[1;36m  Cell \u001b[1;32mIn[41], line 4\u001b[1;36m\u001b[0m\n\u001b[1;33m    if a[i] == 'Ram':\u001b[0m\n\u001b[1;37m    ^\u001b[0m\n\u001b[1;31mIndentationError\u001b[0m\u001b[1;31m:\u001b[0m expected an indented block after 'for' statement on line 3\n"
     ]
    }
   ],
   "source": [
    "a = ['Gita', 'Hari', 'Shyam', 'Sita', 'Harry', 'Ram', \"Ram\"]\n",
    "l = len(a)\n",
    "for i in range(l):\n",
    "if a[i] == 'Ram':\n",
    "    print(i)\n"
   ]
  },
  {
   "cell_type": "code",
   "execution_count": 42,
   "id": "d8a3d0fc-0120-48c3-9104-f277b372d5a9",
   "metadata": {},
   "outputs": [
    {
     "ename": "IndentationError",
     "evalue": "expected an indented block after 'for' statement on line 3 (4204578075.py, line 4)",
     "output_type": "error",
     "traceback": [
      "\u001b[1;36m  Cell \u001b[1;32mIn[42], line 4\u001b[1;36m\u001b[0m\n\u001b[1;33m    if a[i] == 'Ram':\u001b[0m\n\u001b[1;37m    ^\u001b[0m\n\u001b[1;31mIndentationError\u001b[0m\u001b[1;31m:\u001b[0m expected an indented block after 'for' statement on line 3\n"
     ]
    }
   ],
   "source": [
    "a = ['Gita', 'Hari', 'Shyam', 'Sita', 'Harry', 'Ram', \"Ram\"]\n",
    "l = len(a)\n",
    "for i in range(l):\n",
    "if a[i] == 'Ram':\n",
    "    print(i)"
   ]
  },
  {
   "cell_type": "code",
   "execution_count": null,
   "id": "96b640a2-c3ec-4605-971f-b0dabd668ebd",
   "metadata": {},
   "outputs": [],
   "source": []
  }
 ],
 "metadata": {
  "kernelspec": {
   "display_name": "Python 3 (ipykernel)",
   "language": "python",
   "name": "python3"
  },
  "language_info": {
   "codemirror_mode": {
    "name": "ipython",
    "version": 3
   },
   "file_extension": ".py",
   "mimetype": "text/x-python",
   "name": "python",
   "nbconvert_exporter": "python",
   "pygments_lexer": "ipython3",
   "version": "3.12.2"
  }
 },
 "nbformat": 4,
 "nbformat_minor": 5
}
