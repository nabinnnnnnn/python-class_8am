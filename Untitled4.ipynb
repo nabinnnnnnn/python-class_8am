{
 "cells": [
  {
   "cell_type": "code",
   "execution_count": null,
   "id": "66f9ab18-38f2-4974-87d4-0e33c9d3aec7",
   "metadata": {},
   "outputs": [],
   "source": [
    "if else statement(<> <=>= == \n"
   ]
  },
  {
   "cell_type": "code",
   "execution_count": null,
   "id": "469b4919-945c-4821-a1ee-92d09305919d",
   "metadata": {},
   "outputs": [],
   "source": [
    "#if <condition>: \n",
    "#<operations>\n",
    "#elif<condition>:\n",
    "#  <operations>\n",
    "# else:\n",
    "#  <operations>\n"
   ]
  },
  {
   "cell_type": "code",
   "execution_count": 1,
   "id": "c21cb965-5d94-4533-aed9-160468b578ac",
   "metadata": {},
   "outputs": [
    {
     "name": "stdin",
     "output_type": "stream",
     "text": [
      "Enter a = 10\n"
     ]
    },
    {
     "name": "stdout",
     "output_type": "stream",
     "text": [
      "You are under age\n"
     ]
    }
   ],
   "source": [
    "age = int(input('Enter a ='))\n",
    "if age > 10:\n",
    "    print(\"Your age is greater than 10\")\n",
    "else:\n",
    "    print(\"You are under age\")"
   ]
  },
  {
   "cell_type": "code",
   "execution_count": 2,
   "id": "aa741370-7d90-4bdb-9930-b1034b0ea0c1",
   "metadata": {},
   "outputs": [
    {
     "ename": "SyntaxError",
     "evalue": "'(' was never closed (346336865.py, line 1)",
     "output_type": "error",
     "traceback": [
      "\u001b[1;36m  Cell \u001b[1;32mIn[2], line 1\u001b[1;36m\u001b[0m\n\u001b[1;33m    n =(int(input(\"Enter n =\"))\u001b[0m\n\u001b[1;37m       ^\u001b[0m\n\u001b[1;31mSyntaxError\u001b[0m\u001b[1;31m:\u001b[0m '(' was never closed\n"
     ]
    }
   ],
   "source": [
    "n =(int(input(Enter n =\n",
    "            ))\n",
    "if n % 2 == 0:\n",
    "    print(\"The given number is even\")\n",
    " else:\n",
    "    print(\"The given number is odd\")"
   ]
  },
  {
   "cell_type": "code",
   "execution_count": null,
   "id": "d1392081-f6b5-4fe7-85b0-5ba3cca337c3",
   "metadata": {},
   "outputs": [],
   "source": []
  }
 ],
 "metadata": {
  "kernelspec": {
   "display_name": "Python 3 (ipykernel)",
   "language": "python",
   "name": "python3"
  },
  "language_info": {
   "codemirror_mode": {
    "name": "ipython",
    "version": 3
   },
   "file_extension": ".py",
   "mimetype": "text/x-python",
   "name": "python",
   "nbconvert_exporter": "python",
   "pygments_lexer": "ipython3",
   "version": "3.12.2"
  }
 },
 "nbformat": 4,
 "nbformat_minor": 5
}
