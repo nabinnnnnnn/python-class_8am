{
 "cells": [
  {
   "cell_type": "code",
   "execution_count": 1,
   "id": "6b485126-1c14-482b-9ec1-09a9ec29c487",
   "metadata": {},
   "outputs": [
    {
     "name": "stdout",
     "output_type": "stream",
     "text": [
      "hello world\n"
     ]
    }
   ],
   "source": [
    "print(\"hello world\")"
   ]
  },
  {
   "cell_type": "markdown",
   "id": "2f744386-3384-4700-861e-f5d92ca45826",
   "metadata": {},
   "source": []
  },
  {
   "cell_type": "code",
   "execution_count": 3,
   "id": "4a0c207d-b204-4ade-ba3e-9df1d5f24948",
   "metadata": {},
   "outputs": [
    {
     "name": "stdout",
     "output_type": "stream",
     "text": [
      "100\n"
     ]
    }
   ],
   "source": [
    "l=10\n",
    "b=10\n",
    "print(l*b)\n",
    "\n",
    "\n"
   ]
  },
  {
   "cell_type": "code",
   "execution_count": null,
   "id": "f08f5f7f-f7a0-41a1-8a4c-3239acc7ad47",
   "metadata": {},
   "outputs": [
    {
     "name": "stdin",
     "output_type": "stream",
     "text": [
      "enter value a= \n"
     ]
    }
   ],
   "source": [
    "a=input(\"enter value a=10\")\n",
    "b=input(\"enter value b=20\")"
   ]
  },
  {
   "cell_type": "code",
   "execution_count": null,
   "id": "507b050f-fbd1-4092-84f3-e0b045b5013c",
   "metadata": {},
   "outputs": [],
   "source": [
    "l=int(input(Enter value a=10 ))\n",
    "b=int(input(Enter value b=20 ))\n",
    "print(l*b)"
   ]
  },
  {
   "cell_type": "code",
   "execution_count": null,
   "id": "4bc2d5d8-6f46-42d3-91b9-c292bf9a3e53",
   "metadata": {},
   "outputs": [],
   "source": []
  }
 ],
 "metadata": {
  "kernelspec": {
   "display_name": "Python 3 (ipykernel)",
   "language": "python",
   "name": "python3"
  },
  "language_info": {
   "codemirror_mode": {
    "name": "ipython",
    "version": 3
   },
   "file_extension": ".py",
   "mimetype": "text/x-python",
   "name": "python",
   "nbconvert_exporter": "python",
   "pygments_lexer": "ipython3",
   "version": "3.12.2"
  }
 },
 "nbformat": 4,
 "nbformat_minor": 5
}
