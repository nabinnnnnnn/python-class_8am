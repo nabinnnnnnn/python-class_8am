{
 "cells": [
  {
   "cell_type": "code",
   "execution_count": null,
   "id": "459a28a3-6829-4cef-b6c1-aa55f02d9568",
   "metadata": {},
   "outputs": [],
   "source": [
    "# File Handling"
   ]
  },
  {
   "cell_type": "code",
   "execution_count": null,
   "id": "b56c6f05-7217-49d8-a44b-08ef85c2aa86",
   "metadata": {},
   "outputs": [],
   "source": [
    "file = open('<file_name>','mode')\n",
    " with open('<file_name>','<mode>')as file:\n",
    "     <operation>"
   ]
  },
  {
   "cell_type": "code",
   "execution_count": null,
   "id": "4766835c-56a3-46b9-88d6-0d012108a93f",
   "metadata": {},
   "outputs": [],
   "source": [
    "# Mode\n",
    "# r -> read\n",
    "# x -> create\n",
    "# w -> write\n",
    "# a -> append"
   ]
  },
  {
   "cell_type": "raw",
   "id": "2310577b-c3f5-4a00-96af-38d92ad8cd98",
   "metadata": {},
   "source": [
    "# Create file\n",
    "# file = open('"
   ]
  },
  {
   "cell_type": "code",
   "execution_count": 1,
   "id": "47724a49-a49a-4fe2-9d0f-ffd23e72dfda",
   "metadata": {},
   "outputs": [],
   "source": [
    "#create file\n",
    "file = open('data.txt','x')\n",
    "file.close()\n"
   ]
  },
  {
   "cell_type": "code",
   "execution_count": 2,
   "id": "c82f0798-50f0-41ee-824b-c5bee9e7abb2",
   "metadata": {},
   "outputs": [
    {
     "name": "stdout",
     "output_type": "stream",
     "text": [
      "Hello World\n",
      "Hello World\n",
      "Hello World \n",
      "Hello World\n",
      "Hello World\n"
     ]
    }
   ],
   "source": [
    "# read file\n",
    "file = open('data.txt','r')\n",
    "content =file.read()\n",
    "print(content)\n",
    "file.close()"
   ]
  },
  {
   "cell_type": "code",
   "execution_count": 3,
   "id": "c54919db-25db-4483-9769-e461a334f9be",
   "metadata": {},
   "outputs": [
    {
     "data": {
      "text/plain": [
       "['apple', 'ball', 'cat']"
      ]
     },
     "execution_count": 3,
     "metadata": {},
     "output_type": "execute_result"
    }
   ],
   "source": [
    "a = \"apple_ball_cat\"\n",
    "a.split(\"_\")"
   ]
  },
  {
   "cell_type": "code",
   "execution_count": 4,
   "id": "fcb1ce08-0af0-40fd-b1a8-edc147c41ee5",
   "metadata": {},
   "outputs": [
    {
     "data": {
      "text/plain": [
       "'Hello World\\nHello World\\nHello World \\nHello World\\nHello World'"
      ]
     },
     "execution_count": 4,
     "metadata": {},
     "output_type": "execute_result"
    }
   ],
   "source": [
    "content"
   ]
  },
  {
   "cell_type": "code",
   "execution_count": 5,
   "id": "595031b0-30dc-48f8-bdad-a3e94ecb4285",
   "metadata": {},
   "outputs": [
    {
     "data": {
      "text/plain": [
       "['Hello World', 'Hello World', 'Hello World ', 'Hello World', 'Hello World']"
      ]
     },
     "execution_count": 5,
     "metadata": {},
     "output_type": "execute_result"
    }
   ],
   "source": [
    "lines = content.split('\\n')\n",
    "lines"
   ]
  },
  {
   "cell_type": "code",
   "execution_count": 7,
   "id": "1d31641e-5e3f-4a66-9203-d21473658c0b",
   "metadata": {},
   "outputs": [
    {
     "name": "stdin",
     "output_type": "stream",
     "text": [
      "Enter line no =  1\n"
     ]
    },
    {
     "data": {
      "text/plain": [
       "'Hello World'"
      ]
     },
     "execution_count": 7,
     "metadata": {},
     "output_type": "execute_result"
    }
   ],
   "source": [
    "line_no = int(input(\"Enter line no = \"))\n",
    "lines[line_no-1]\n"
   ]
  },
  {
   "cell_type": "code",
   "execution_count": 9,
   "id": "7f93df20-c1d0-4780-b95c-8b49c8a613c1",
   "metadata": {},
   "outputs": [],
   "source": [
    "# write on file\n",
    "file = open('data1.txt','w')\n",
    "file.write('Hello World')\n",
    "file.close()"
   ]
  },
  {
   "cell_type": "code",
   "execution_count": 20,
   "id": "b2a75e20-aea3-47f9-891e-6fb90ec436f4",
   "metadata": {},
   "outputs": [
    {
     "name": "stdin",
     "output_type": "stream",
     "text": [
      "Enter n =  2\n",
      "Enter name =  apple\n",
      "Enter price =  300\n",
      "Enter quantity =  2\n",
      "Enter name =  banana\n",
      "Enter price =  100\n",
      "Enter quantity =  4\n"
     ]
    }
   ],
   "source": [
    "bill = \"\"\n",
    "total = \"\"\n",
    "n = int(input(\"Enter n = \")) \n",
    "for i in range(n):\n",
    "    name = input(\"Enter name = \")\n",
    "    price = int(input(\"Enter price = \"))\n",
    "    quantity = int(input(\"Enter quantity = \"))\n",
    "    total = price * quantity\n",
    "    bill = bill + f\"{name} {price} {quantity} {total }\\n\"\n",
    "    \n",
    "file = open('bill1.txt','w')\n",
    "file.write(bill)\n",
    "file.close()\n"
   ]
  },
  {
   "cell_type": "code",
   "execution_count": 21,
   "id": "a1377de1-2c3c-44c4-a9ba-e65f41ae01b5",
   "metadata": {},
   "outputs": [
    {
     "name": "stdout",
     "output_type": "stream",
     "text": [
      "apple 300 2 600\n",
      "banana  100 4 400\n",
      "\n"
     ]
    }
   ],
   "source": [
    "file = open('bill.txt','r')\n",
    "content = file.read()\n",
    "print(content)\n",
    "file.close()\n"
   ]
  },
  {
   "cell_type": "code",
   "execution_count": 22,
   "id": "be0390b7-f239-411e-9498-00ff0b929eb7",
   "metadata": {},
   "outputs": [
    {
     "data": {
      "text/plain": [
       "['apple 300 2 600', 'banana  100 4 400']"
      ]
     },
     "execution_count": 22,
     "metadata": {},
     "output_type": "execute_result"
    }
   ],
   "source": [
    "data = content.split('\\n')[:-1]  \n",
    "data"
   ]
  },
  {
   "cell_type": "code",
   "execution_count": 23,
   "id": "97e855be-81e1-4d57-8c54-47d8b0873a92",
   "metadata": {},
   "outputs": [],
   "source": [
    "list_bill =[]\n",
    "for i in data:\n",
    "    list_bill.append(i.split())"
   ]
  },
  {
   "cell_type": "code",
   "execution_count": 28,
   "id": "cbf8b921-8e79-49ee-a679-1bad34c41574",
   "metadata": {},
   "outputs": [
    {
     "data": {
      "text/plain": [
       "[['apple', 300, 2, 600], ['banana', 100, 4, 400]]"
      ]
     },
     "execution_count": 28,
     "metadata": {},
     "output_type": "execute_result"
    }
   ],
   "source": [
    "list_bill =[]\n",
    "for i in data:\n",
    "    x = i.split()\n",
    "    x[1] = int(x[1])\n",
    "    x[2] = int(x[2])\n",
    "    x[3] = int(x[3])\n",
    "    list_bill.append(x)\n",
    "list_bill"
   ]
  },
  {
   "cell_type": "code",
   "execution_count": 31,
   "id": "2f76801d-d260-439e-8433-36d5acf1dda6",
   "metadata": {},
   "outputs": [],
   "source": [
    "\n",
    "#writing list into file\n",
    "import csv\n",
    "file = open('bill1.txt','w')\n",
    "x = csv.writer(file)\n",
    "x.writerows(list_bill)\n",
    "file.close()"
   ]
  },
  {
   "cell_type": "code",
   "execution_count": 32,
   "id": "33a7c544-ec0f-4bf9-912c-06c211610169",
   "metadata": {},
   "outputs": [],
   "source": [
    " # Append mode in file\n",
    "file = open('append_bill.txt','a')\n"
   ]
  },
  {
   "cell_type": "code",
   "execution_count": null,
   "id": "604a7d3c-e513-4172-a304-4011a807b1d6",
   "metadata": {},
   "outputs": [
    {
     "name": "stdin",
     "output_type": "stream",
     "text": [
      "Enter n =  2\n",
      "Enter name =  akash\n",
      "Enter age =  78\n",
      "Enter add =  kathmandu\n"
     ]
    }
   ],
   "source": [
    "info = \"\"\n",
    "n = int(input(\"Enter n = \"))\n",
    "for i in range(n):\n",
    "    name = input(\"Enter name = \")\n",
    "    age = input(\"Enter age = \")\n",
    "    add = input(\"Enter add = \")\n",
    "    info = f\"{name} {age} {add}\\n\"\n",
    "file.write(info)\n",
    "file.close()"
   ]
  },
  {
   "cell_type": "code",
   "execution_count": null,
   "id": "7cac27e9-c01f-43ed-b440-5282f7c5656d",
   "metadata": {},
   "outputs": [],
   "source": []
  }
 ],
 "metadata": {
  "kernelspec": {
   "display_name": "Python 3 (ipykernel)",
   "language": "python",
   "name": "python3"
  },
  "language_info": {
   "codemirror_mode": {
    "name": "ipython",
    "version": 3
   },
   "file_extension": ".py",
   "mimetype": "text/x-python",
   "name": "python",
   "nbconvert_exporter": "python",
   "pygments_lexer": "ipython3",
   "version": "3.12.2"
  }
 },
 "nbformat": 4,
 "nbformat_minor": 5
}
