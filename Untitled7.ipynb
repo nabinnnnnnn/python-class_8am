{
 "cells": [
  {
   "cell_type": "code",
   "execution_count": null,
   "id": "5310d448-1988-4796-af49-163149a63e2b",
   "metadata": {},
   "outputs": [],
   "source": [
    "# WAP to make a basic calculator\n",
    "add\n",
    "subs\n",
    "mul\n",
    "div\n",
    "take a and b as input\n",
    "take o as operator"
   ]
  }
 ],
 "metadata": {
  "kernelspec": {
   "display_name": "Python 3 (ipykernel)",
   "language": "python",
   "name": "python3"
  },
  "language_info": {
   "codemirror_mode": {
    "name": "ipython",
    "version": 3
   },
   "file_extension": ".py",
   "mimetype": "text/x-python",
   "name": "python",
   "nbconvert_exporter": "python",
   "pygments_lexer": "ipython3",
   "version": "3.12.2"
  }
 },
 "nbformat": 4,
 "nbformat_minor": 5
}
