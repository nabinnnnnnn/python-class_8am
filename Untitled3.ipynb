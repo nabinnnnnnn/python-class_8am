{
 "cells": [
  {
   "cell_type": "code",
   "execution_count": 1,
   "id": "656d2289-2f22-43f9-90e0-1c898024f21d",
   "metadata": {},
   "outputs": [
    {
     "name": "stdin",
     "output_type": "stream",
     "text": [
      "Enter name = nabin\n",
      "Enter age = 23\n",
      "Enter add = 2\n"
     ]
    },
    {
     "name": "stdout",
     "output_type": "stream",
     "text": [
      "Hello world I am nabin\n"
     ]
    }
   ],
   "source": [
    "name=input('Enter name =')\n",
    "age=int(input(\"Enter age =\"))\n",
    "add=input(\"Enter add =\")\n",
    "info=\"Hello world I am \" + name\n",
    "print(info)"
   ]
  },
  {
   "cell_type": "code",
   "execution_count": null,
   "id": "d01b988a-4c88-44f2-b580-a602e189b3ac",
   "metadata": {},
   "outputs": [],
   "source": [
    "name=input('Enter name = ')\n",
    "age=int(input(\"Enter age =\"))\n",
    "add=input(\"Enter add =\")\n",
    "info\n",
    "          "
   ]
  }
 ],
 "metadata": {
  "kernelspec": {
   "display_name": "Python 3 (ipykernel)",
   "language": "python",
   "name": "python3"
  },
  "language_info": {
   "codemirror_mode": {
    "name": "ipython",
    "version": 3
   },
   "file_extension": ".py",
   "mimetype": "text/x-python",
   "name": "python",
   "nbconvert_exporter": "python",
   "pygments_lexer": "ipython3",
   "version": "3.12.2"
  }
 },
 "nbformat": 4,
 "nbformat_minor": 5
}
