{
 "cells": [
  {
   "cell_type": "code",
   "execution_count": null,
   "id": "c2d0b7a5-6f8d-49aa-b476-c5a76b85437e",
   "metadata": {},
   "outputs": [],
   "source": [
    "# Dictionary\n",
    "# Indexing\n",
    "# Multiple and duplicate data or values\n",
    "# Ordered\n",
    "# Mutable"
   ]
  },
  {
   "cell_type": "code",
   "execution_count": 1,
   "id": "2d63c461-eafa-4b7c-83ec-7943dc4078b4",
   "metadata": {},
   "outputs": [
    {
     "name": "stdout",
     "output_type": "stream",
     "text": [
      "<class 'dict'>\n"
     ]
    }
   ],
   "source": [
    "d = dict()\n",
    "d = {}\n",
    "print(type(d))"
   ]
  },
  {
   "cell_type": "code",
   "execution_count": null,
   "id": "0d8c2fcf-1c81-48d6-8649-f54983c6b774",
   "metadata": {},
   "outputs": [],
   "source": [
    "# d = {<key>:<value>}"
   ]
  },
  {
   "cell_type": "code",
   "execution_count": 3,
   "id": "3dcc9b1f-501e-4710-95ca-442e7f058d8d",
   "metadata": {},
   "outputs": [
    {
     "name": "stdout",
     "output_type": "stream",
     "text": [
      "Apple\n",
      "ball\n",
      "{'a': 'Apple', 'b': 'ball'}\n"
     ]
    }
   ],
   "source": [
    "d = {'a':'Apple','b':'ball'}\n",
    "print(d['a'])\n",
    "print(d['b'])\n",
    "print(d)"
   ]
  },
  {
   "cell_type": "code",
   "execution_count": null,
   "id": "ac1e36c1-faa0-4c7e-bd07-c427a9927db0",
   "metadata": {},
   "outputs": [],
   "source": [
    "d = {1:1,2:4,3:9,4:16}\n",
    "b = {'a':'Apple','b':'ball'}\n",
    "print"
   ]
  },
  {
   "cell_type": "code",
   "execution_count": 5,
   "id": "e91358ec-730c-48cf-af88-428abea31b59",
   "metadata": {},
   "outputs": [
    {
     "name": "stdin",
     "output_type": "stream",
     "text": [
      "Enter n =  2\n",
      "Enter name =  ram\n",
      "Enter phone =  9802345678\n",
      "Enter name =  shyam\n",
      "Enter phone =  985672234\n"
     ]
    },
    {
     "name": "stdout",
     "output_type": "stream",
     "text": [
      "{'ram': 9802345678, 'shyam': 985672234}\n"
     ]
    }
   ],
   "source": [
    "a = {}\n",
    "n = int(input(\"Enter n = \"))\n",
    "for i in range(n):\n",
    "    name = input(\"Enter name = \")\n",
    "    phone = int(input(\"Enter phone = \"))\n",
    "    a[name] = phone\n",
    "print(a)"
   ]
  },
  {
   "cell_type": "code",
   "execution_count": 6,
   "id": "7dfa22a6-89af-4dff-866c-67637d45be03",
   "metadata": {},
   "outputs": [
    {
     "name": "stdout",
     "output_type": "stream",
     "text": [
      "ram\n",
      "shyam\n",
      "nabin\n"
     ]
    }
   ],
   "source": [
    "a = {'ram': 9802345678, 'shyam': 985672234,'nabin':98421389}\n",
    "for i in a:\n",
    "    print(i)"
   ]
  },
  {
   "cell_type": "code",
   "execution_count": 7,
   "id": "947f83b4-5da7-405a-a583-254b9aaf93fd",
   "metadata": {},
   "outputs": [
    {
     "name": "stdout",
     "output_type": "stream",
     "text": [
      "9802345678\n",
      "985672234\n",
      "98421389\n"
     ]
    }
   ],
   "source": [
    "a = {'ram': 9802345678, 'shyam': 985672234,'nabin':98421389}\n",
    "for i in a.values():\n",
    "    print(i)"
   ]
  },
  {
   "cell_type": "code",
   "execution_count": 12,
   "id": "95dc0601-1bb5-46a2-9e1d-9b479f82a14f",
   "metadata": {},
   "outputs": [
    {
     "name": "stdout",
     "output_type": "stream",
     "text": [
      "{'ram': 9802345678, 'shyam': 985672234, 'nabin': 98421389}\n",
      "{'ram': 9802345678, 'shyam': 985672234, 'nabin': 98421389}\n",
      "{'ram': 9802345678, 'shyam': 985672234, 'nabin': 98421389}\n"
     ]
    }
   ],
   "source": [
    "a = {'ram': 9802345678, 'shyam': 985672234,'nabin':98421389}\n",
    "for i in a.items():\n",
    "    print(a)"
   ]
  },
  {
   "cell_type": "code",
   "execution_count": 13,
   "id": "e0c2b692-6d16-47c4-83c1-a82a5bbae794",
   "metadata": {},
   "outputs": [
    {
     "data": {
      "text/plain": [
       "{'ram': 9802345678, 'shyam': 985672234, 'nabin': 98421389, 'Rama': 986754321}"
      ]
     },
     "execution_count": 13,
     "metadata": {},
     "output_type": "execute_result"
    }
   ],
   "source": [
    "a = {'ram': 9802345678, 'shyam': 985672234,'nabin':98421389}\n",
    "a['Rama'] = 986754321\n",
    "a"
   ]
  },
  {
   "cell_type": "code",
   "execution_count": 14,
   "id": "83a7a296-d0f1-499b-9156-a6233c33b423",
   "metadata": {},
   "outputs": [
    {
     "data": {
      "text/plain": [
       "{'ram': 9802345678,\n",
       " 'shyam': 985672234,\n",
       " 'nabin': 98421389,\n",
       " 'sita': 985678123,\n",
       " 'hari': 982341678}"
      ]
     },
     "execution_count": 14,
     "metadata": {},
     "output_type": "execute_result"
    }
   ],
   "source": [
    "a = {'ram': 9802345678, 'shyam': 985672234,'nabin':98421389}\n",
    "b = {'sita':985678123,'hari':982341678}\n",
    "a.update(b)\n",
    "a"
   ]
  },
  {
   "cell_type": "code",
   "execution_count": null,
   "id": "f3085c22-24e8-41cc-a6e0-e778f987115c",
   "metadata": {},
   "outputs": [],
   "source": [
    "# delete in dict\n",
    "# del pop"
   ]
  },
  {
   "cell_type": "code",
   "execution_count": 15,
   "id": "4fe4197e-af7b-4f07-9024-0f4edf39c7d4",
   "metadata": {},
   "outputs": [
    {
     "data": {
      "text/plain": [
       "{'shyam': 985672234, 'nabin': 98421389}"
      ]
     },
     "execution_count": 15,
     "metadata": {},
     "output_type": "execute_result"
    }
   ],
   "source": [
    "a = {'ram': 9802345678, 'shyam': 985672234,'nabin':98421389}\n",
    "del a['ram']\n",
    "a"
   ]
  },
  {
   "cell_type": "code",
   "execution_count": 16,
   "id": "a4909690-744d-43fe-8f1d-273f14819e3d",
   "metadata": {},
   "outputs": [
    {
     "name": "stdout",
     "output_type": "stream",
     "text": [
      "9802345678\n",
      "{'shyam': 985672234, 'nabin': 98421389}\n"
     ]
    }
   ],
   "source": [
    "a = {'ram': 9802345678, 'shyam': 985672234,'nabin':98421389}\n",
    "b = a.pop('ram')\n",
    "print(b)\n",
    "print(a)"
   ]
  },
  {
   "cell_type": "code",
   "execution_count": 20,
   "id": "7439b979-dc4b-4b4d-acbd-204a2541acf1",
   "metadata": {},
   "outputs": [
    {
     "data": {
      "text/plain": [
       "[9802345678, 985423367]"
      ]
     },
     "execution_count": 20,
     "metadata": {},
     "output_type": "execute_result"
    }
   ],
   "source": [
    "# list inside dict\n",
    "a = {'ram':[ 9802345678,985423367], 'shyam': [985672234,980213456], 'nabin': [98421389,980234156]}\n",
    "a['ram']"
   ]
  },
  {
   "cell_type": "code",
   "execution_count": 22,
   "id": "067a95ce-0d94-406b-a4f3-ca24af7a4e86",
   "metadata": {},
   "outputs": [
    {
     "data": {
      "text/plain": [
       "{'name': ['Ram', 'Shyam', 'Hari'],\n",
       " 'age': [23, 56, 34],\n",
       " 'add': ['Kathmandu', 'Bhaktapur', 'Lalitpur']}"
      ]
     },
     "execution_count": 22,
     "metadata": {},
     "output_type": "execute_result"
    }
   ],
   "source": [
    "a = {'name':['Ram','Shyam','Hari'],\n",
    "     'age':[23,56,34],\n",
    "     'add':[\"Kathmandu\",\"Bhaktapur\",\"Lalitpur\"]}\n",
    "a     "
   ]
  },
  {
   "cell_type": "code",
   "execution_count": 23,
   "id": "b79b83b6-ee56-4632-afed-9f50e5b0a7ca",
   "metadata": {},
   "outputs": [
    {
     "name": "stdin",
     "output_type": "stream",
     "text": [
      "Enter n =  2\n",
      "Enter name =  ram\n",
      "Enter ntc no =  984567812\n",
      "Enter ncell no =  98023456789\n",
      "Enter name =  \n",
      "Enter ntc no =  984567782\n",
      "Enter ncell no =  9804321\n"
     ]
    },
    {
     "name": "stdout",
     "output_type": "stream",
     "text": [
      "{'ram': [984567812, 98023456789], '': [984567782, 9804321]}\n"
     ]
    }
   ],
   "source": [
    "a = {'ram':[ 9802345678,985423367], 'shyam': [985672234,980213456], 'nabin': [98421389,980234156]}\n",
    "a = {}\n",
    "n = int(input(\"Enter n = \"))\n",
    "for i in range(n):\n",
    "    name = input(\"Enter name = \")\n",
    "    ntc = int(input(\"Enter ntc no = \"))\n",
    "    ncell = int(input(\"Enter ncell no = \"))\n",
    "    a[name] = [ntc,ncell]\n",
    "print(a)  "
   ]
  },
  {
   "cell_type": "code",
   "execution_count": 1,
   "id": "ebd0483f-b829-4d54-abea-44878cfa0148",
   "metadata": {},
   "outputs": [
    {
     "name": "stdin",
     "output_type": "stream",
     "text": [
      "Enter n =  2\n",
      "Enter name =  ram\n",
      "Enter age no =  23\n",
      "Enter add no =  kathmandu\n"
     ]
    },
    {
     "ename": "KeyError",
     "evalue": "'age'",
     "output_type": "error",
     "traceback": [
      "\u001b[1;31m---------------------------------------------------------------------------\u001b[0m",
      "\u001b[1;31mKeyError\u001b[0m                                  Traceback (most recent call last)",
      "Cell \u001b[1;32mIn[1], line 11\u001b[0m\n\u001b[0;32m      9\u001b[0m     add \u001b[38;5;241m=\u001b[39m \u001b[38;5;28minput\u001b[39m(\u001b[38;5;124m\"\u001b[39m\u001b[38;5;124mEnter add no = \u001b[39m\u001b[38;5;124m\"\u001b[39m)\n\u001b[0;32m     10\u001b[0m     a[\u001b[38;5;124m'\u001b[39m\u001b[38;5;124mname\u001b[39m\u001b[38;5;124m'\u001b[39m]\u001b[38;5;241m.\u001b[39mappend(name)\n\u001b[1;32m---> 11\u001b[0m     \u001b[43ma\u001b[49m\u001b[43m[\u001b[49m\u001b[38;5;124;43m'\u001b[39;49m\u001b[38;5;124;43mage\u001b[39;49m\u001b[38;5;124;43m'\u001b[39;49m\u001b[43m]\u001b[49m\u001b[38;5;241m.\u001b[39mappend(age)\n\u001b[0;32m     12\u001b[0m     a[\u001b[38;5;124m'\u001b[39m\u001b[38;5;124madd\u001b[39m\u001b[38;5;124m'\u001b[39m]\u001b[38;5;241m.\u001b[39mappend(add)\n\u001b[0;32m     13\u001b[0m \u001b[38;5;28mprint\u001b[39m(a)\n",
      "\u001b[1;31mKeyError\u001b[0m: 'age'"
     ]
    }
   ],
   "source": [
    "# a ={'name',:['Ram','Shyam','Hari'],\n",
    "#    'age':[23,56,36],\n",
    "#     add:['Kathmandu','Bhaktapur','Lalitpur']}\n",
    "a = {'name':[],'add':[]}\n",
    "n = int(input(\"Enter n = \"))\n",
    "for i in range(n):\n",
    "    name = input(\"Enter name = \")\n",
    "    age = int(input(\"Enter age no = \"))\n",
    "    add = input(\"Enter add no = \")\n",
    "    a['name'].append(name)\n",
    "    a['age'].append(age)\n",
    "    a['add'].append(add)\n",
    "print(a)"
   ]
  },
  {
   "cell_type": "code",
   "execution_count": null,
   "id": "9f02250e-acc7-42ed-acb4-92fe7ceefd5e",
   "metadata": {},
   "outputs": [],
   "source": []
  }
 ],
 "metadata": {
  "kernelspec": {
   "display_name": "Python 3 (ipykernel)",
   "language": "python",
   "name": "python3"
  },
  "language_info": {
   "codemirror_mode": {
    "name": "ipython",
    "version": 3
   },
   "file_extension": ".py",
   "mimetype": "text/x-python",
   "name": "python",
   "nbconvert_exporter": "python",
   "pygments_lexer": "ipython3",
   "version": "3.12.2"
  }
 },
 "nbformat": 4,
 "nbformat_minor": 5
}
