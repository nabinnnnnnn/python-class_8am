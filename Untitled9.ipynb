{
 "cells": [
  {
   "cell_type": "code",
   "execution_count": null,
   "id": "14b9fc03-ebf2-4437-a607-8ac3f92af6c4",
   "metadata": {},
   "outputs": [],
   "source": [
    "# loop\n",
    "# for loop\n",
    "# while loop"
   ]
  },
  {
   "cell_type": "raw",
   "id": "c5adb997-c602-442b-9503-0477de89045a",
   "metadata": {},
   "source": [
    "range() #creates sequences of no"
   ]
  },
  {
   "cell_type": "code",
   "execution_count": 1,
   "id": "cfacd1a3-a2fa-45a2-8c32-30caf88e2f7e",
   "metadata": {},
   "outputs": [
    {
     "name": "stdout",
     "output_type": "stream",
     "text": [
      "0\n",
      "1\n",
      "2\n",
      "3\n",
      "4\n"
     ]
    }
   ],
   "source": [
    "for i in range(5):\n",
    "    print(i)"
   ]
  },
  {
   "cell_type": "code",
   "execution_count": 2,
   "id": "7f53c717-a89c-41e5-a327-1f1172d49517",
   "metadata": {},
   "outputs": [
    {
     "name": "stdout",
     "output_type": "stream",
     "text": [
      "1\n",
      "2\n",
      "3\n",
      "4\n"
     ]
    }
   ],
   "source": [
    "for i in range (1,5):\n",
    "    print(i)"
   ]
  },
  {
   "cell_type": "code",
   "execution_count": 3,
   "id": "35304509-2652-475b-8d5f-0f21c15abf90",
   "metadata": {},
   "outputs": [
    {
     "name": "stdout",
     "output_type": "stream",
     "text": [
      "0 Hello World\n",
      "1 Hello World\n",
      "2 Hello World\n",
      "3 Hello World\n",
      "4 Hello World\n"
     ]
    }
   ],
   "source": [
    "for i in range(5):\n",
    "    print(i,\"Hello World\")"
   ]
  },
  {
   "cell_type": "code",
   "execution_count": 5,
   "id": "f86e944e-850c-4e57-b16c-68230a7e7915",
   "metadata": {},
   "outputs": [
    {
     "name": "stdout",
     "output_type": "stream",
     "text": [
      "5\n",
      "10\n",
      "15\n",
      "20\n",
      "25\n",
      "30\n",
      "35\n",
      "40\n",
      "45\n",
      "50\n"
     ]
    }
   ],
   "source": [
    "for i in range(1,11):\n",
    "    print(i*5)"
   ]
  },
  {
   "cell_type": "code",
   "execution_count": 6,
   "id": "c7ca112e-c3b1-4a6a-8005-ab8f28ff9fc5",
   "metadata": {},
   "outputs": [
    {
     "name": "stdin",
     "output_type": "stream",
     "text": [
      "Enter x =  7\n"
     ]
    },
    {
     "name": "stdout",
     "output_type": "stream",
     "text": [
      "7 * 1 = 7\n",
      "7 * 2 = 14\n",
      "7 * 3 = 21\n",
      "7 * 4 = 28\n",
      "7 * 5 = 35\n",
      "7 * 6 = 42\n",
      "7 * 7 = 49\n",
      "7 * 8 = 56\n",
      "7 * 9 = 63\n",
      "7 * 10 = 70\n"
     ]
    }
   ],
   "source": [
    "x = int(input(\"Enter x = \"))\n",
    "for i in range(1,11):\n",
    "    print(x,\"*\",i,\"=\",i*x)"
   ]
  },
  {
   "cell_type": "code",
   "execution_count": 7,
   "id": "98a32cea-6bf7-45e9-8b94-e58fd2587b11",
   "metadata": {},
   "outputs": [
    {
     "name": "stdin",
     "output_type": "stream",
     "text": [
      "Enter x =  3\n",
      "Enter x =  4\n",
      "Enter x =  5\n",
      "Enter x =  6\n",
      "Enter x =  7\n"
     ]
    }
   ],
   "source": [
    "for i in range(5):\n",
    "    x = int(input(\"Enter x = \"))\n",
    "    "
   ]
  },
  {
   "cell_type": "code",
   "execution_count": 10,
   "id": "b04ac2b3-dddf-40f7-954e-3ff534d9f3ba",
   "metadata": {},
   "outputs": [
    {
     "name": "stdin",
     "output_type": "stream",
     "text": [
      "Enter x =  2000\n",
      "Enter x =  5000\n",
      "Enter x =  7000\n",
      "Enter x =  9000\n",
      "Enter x =  4000\n"
     ]
    },
    {
     "name": "stdout",
     "output_type": "stream",
     "text": [
      "27000\n"
     ]
    }
   ],
   "source": [
    "abc = 0\n",
    "for i in range(5):\n",
    "    x = int(input(\"Enter x = \"))\n",
    "    abc = abc + x\n",
    "print(abc)"
   ]
  },
  {
   "cell_type": "code",
   "execution_count": 12,
   "id": "82bb6328-3412-49f9-9e0b-eaf4cdc4fb9a",
   "metadata": {},
   "outputs": [
    {
     "name": "stdin",
     "output_type": "stream",
     "text": [
      "Enter x =  ram \n",
      "Enter x =  shyam\n",
      "Enter x =  hari\n",
      "Enter x =  nabin\n",
      "Enter x =  haridas\n"
     ]
    },
    {
     "name": "stdout",
     "output_type": "stream",
     "text": [
      "ram shyamharinabinharidas\n"
     ]
    }
   ],
   "source": [
    "abc = \"\" #str()\n",
    "for i in range(5):\n",
    "    x = input(\"Enter x = \")\n",
    "    abc = abc + x + \" \"\n",
    "print(abc)"
   ]
  },
  {
   "cell_type": "code",
   "execution_count": 18,
   "id": "637944ee-3b1a-40ba-9115-20e20a86f396",
   "metadata": {},
   "outputs": [
    {
     "name": "stdin",
     "output_type": "stream",
     "text": [
      "Enter n =  2\n",
      "Enter name =  ram \n",
      "Enter phone =  233534635\n",
      "Enter name =  shyam\n",
      "Enter phone =  23455475469679\n"
     ]
    },
    {
     "name": "stdout",
     "output_type": "stream",
     "text": [
      "ram  233534635\n",
      "shyam 23455475469679\n",
      "\n"
     ]
    }
   ],
   "source": [
    "contact = \"\"\n",
    "n = int(input(\"Enter n = \"))\n",
    "for i in range(n):\n",
    "    name = input(\"Enter name = \")\n",
    "    phone = int(input(\"Enter phone = \"))\n",
    "    contact = contact + name + \" \" + str(phone) +\"\\n\"\n",
    "print(contact)    \n",
    "            "
   ]
  },
  {
   "cell_type": "code",
   "execution_count": null,
   "id": "9e20153f-575f-41d0-a51a-3260b068985b",
   "metadata": {},
   "outputs": [],
   "source": [
    "#5! = 1*2*3*4*5"
   ]
  },
  {
   "cell_type": "code",
   "execution_count": 14,
   "id": "bfede5a8-87df-457c-bed4-79b08554095d",
   "metadata": {},
   "outputs": [
    {
     "name": "stdin",
     "output_type": "stream",
     "text": [
      "Enter n =  5\n"
     ]
    },
    {
     "name": "stdout",
     "output_type": "stream",
     "text": [
      "1\n",
      "2\n",
      "6\n",
      "24\n",
      "120\n"
     ]
    }
   ],
   "source": [
    "fac = 1 \n",
    "n = int(input(\"Enter n = \"))\n",
    "for i in range(1, n+1):\n",
    "    fac = fac*i\n",
    "    print(fac)"
   ]
  },
  {
   "cell_type": "code",
   "execution_count": 15,
   "id": "56f4d498-4423-4cee-99e2-e1ea4942b251",
   "metadata": {},
   "outputs": [
    {
     "name": "stdout",
     "output_type": "stream",
     "text": [
      "\n",
      "o\n",
      "oo\n",
      "ooo\n",
      "oooo\n",
      "ooooo\n",
      "oooooo\n",
      "ooooooo\n",
      "oooooooo\n",
      "ooooooooo\n"
     ]
    }
   ],
   "source": [
    "for i in range(10):\n",
    "    print(i * 'o')"
   ]
  },
  {
   "cell_type": "code",
   "execution_count": 17,
   "id": "7c0e642a-444c-4d59-91a5-78e951bc8191",
   "metadata": {},
   "outputs": [
    {
     "name": "stdout",
     "output_type": "stream",
     "text": [
      "           \n",
      "        ooooo\n",
      "        ooooo\n",
      "        ooooo\n",
      "        ooooo\n",
      "        ooooo\n",
      "          oo\n",
      "        ooooo\n",
      "        ooooo\n",
      "        ooooo\n",
      "        ooooo\n",
      "        ooooo\n",
      "         oooo\n",
      "        ooooo\n",
      "        ooooo\n",
      "        ooooo\n",
      "        ooooo\n",
      "        ooooo\n",
      "        oooooo\n",
      "        ooooo\n",
      "        ooooo\n",
      "        ooooo\n",
      "        ooooo\n",
      "        ooooo\n",
      "       oooooooo\n",
      "        ooooo\n",
      "        ooooo\n",
      "        ooooo\n",
      "        ooooo\n",
      "        ooooo\n",
      "      oooooooooo\n",
      "        ooooo\n",
      "        ooooo\n",
      "        ooooo\n",
      "        ooooo\n",
      "        ooooo\n",
      "     oooooooooooo\n",
      "        ooooo\n",
      "        ooooo\n",
      "        ooooo\n",
      "        ooooo\n",
      "        ooooo\n",
      "    oooooooooooooo\n",
      "        ooooo\n",
      "        ooooo\n",
      "        ooooo\n",
      "        ooooo\n",
      "        ooooo\n",
      "   oooooooooooooooo\n",
      "        ooooo\n",
      "        ooooo\n",
      "        ooooo\n",
      "        ooooo\n",
      "        ooooo\n",
      "  oooooooooooooooooo\n",
      "        ooooo\n",
      "        ooooo\n",
      "        ooooo\n",
      "        ooooo\n",
      "        ooooo\n"
     ]
    }
   ],
   "source": [
    "n = 10\n",
    "for i in range(10):\n",
    "    print((n-i)*\" \",2*(i * 'o'))\n",
    "    for i in range(5):\n",
    "        print(7*\" \",5*\"o\")"
   ]
  },
  {
   "cell_type": "code",
   "execution_count": null,
   "id": "5207f25d-d352-433b-92b9-c0f76390e5dd",
   "metadata": {},
   "outputs": [],
   "source": [
    "WAP to make a billing system.\n",
    "name = ?\n",
    "price = ?\n",
    "quantity = ?\n",
    "total = ?\n",
    "#coke 100 3 300\n",
    "# momo 150 4 600\n"
   ]
  },
  {
   "cell_type": "code",
   "execution_count": null,
   "id": "3305ebbe-cd6c-4c76-8a2e-76b310387c90",
   "metadata": {},
   "outputs": [],
   "source": []
  }
 ],
 "metadata": {
  "kernelspec": {
   "display_name": "Python 3 (ipykernel)",
   "language": "python",
   "name": "python3"
  },
  "language_info": {
   "codemirror_mode": {
    "name": "ipython",
    "version": 3
   },
   "file_extension": ".py",
   "mimetype": "text/x-python",
   "name": "python",
   "nbconvert_exporter": "python",
   "pygments_lexer": "ipython3",
   "version": "3.12.2"
  }
 },
 "nbformat": 4,
 "nbformat_minor": 5
}
