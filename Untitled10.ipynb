{
 "cells": [
  {
   "cell_type": "code",
   "execution_count": null,
   "id": "62511d38-31fc-4f00-a940-c990c9a6f953",
   "metadata": {},
   "outputs": [],
   "source": [
    "#WAP to make a billing system\n"
   ]
  },
  {
   "cell_type": "code",
   "execution_count": 4,
   "id": "11bc67e1-b458-484e-875d-a7c98a28df19",
   "metadata": {},
   "outputs": [
    {
     "name": "stdin",
     "output_type": "stream",
     "text": [
      "Enter n =  2\n",
      "Enter name =  ram\n",
      "Enter price =  200\n",
      "Enter quantity =  2\n",
      "Enter name =  shyam\n",
      "Enter price =  200\n",
      "Enter quantity =  2\n"
     ]
    },
    {
     "name": "stdout",
     "output_type": "stream",
     "text": [
      "ram 200 2 400\n",
      "shyam 200 2 400\n",
      "\n",
      "800\n"
     ]
    }
   ],
   "source": [
    "n = int(input(\"Enter n = \")) \n",
    "all_total = 0\n",
    "bill = \"\"\n",
    "for i in range(n):\n",
    "    name = input(\"Enter name = \")\n",
    "    price = int(input(\"Enter price = \"))\n",
    "    quantity = int(input(\"Enter quantity = \"))\n",
    "    total = price * quantity\n",
    "    bill = bill + name + \" \" + str(price) + \" \" +str(quantity) + \" \" +str(total) + \"\\n\"\n",
    "    all_total = all_total + total\n",
    "print(bill)\n",
    "print(all_total)"
   ]
  },
  {
   "cell_type": "code",
   "execution_count": 5,
   "id": "dc246625-0d90-4dec-9762-c06eec106c4e",
   "metadata": {},
   "outputs": [
    {
     "name": "stdout",
     "output_type": "stream",
     "text": [
      "H hellow world\n",
      "e hellow world\n",
      "l hellow world\n",
      "l hellow world\n",
      "o hellow world\n",
      "  hellow world\n",
      "w hellow world\n",
      "o hellow world\n",
      "r hellow world\n",
      "l hellow world\n",
      "d hellow world\n"
     ]
    }
   ],
   "source": [
    "a = \"Hello world\"\n",
    "for i in a:\n",
    "        print(i,\"hellow world\")"
   ]
  },
  {
   "cell_type": "code",
   "execution_count": 11,
   "id": "183e7baa-a8da-4249-8931-f81ababfad0b",
   "metadata": {},
   "outputs": [
    {
     "name": "stdout",
     "output_type": "stream",
     "text": [
      "Hello World I am python"
     ]
    }
   ],
   "source": [
    "a = \"Hello World. I am python.\"\n",
    "for i in a:\n",
    "    if i != \".\":\n",
    "        print(i,end = \"\")"
   ]
  },
  {
   "cell_type": "code",
   "execution_count": null,
   "id": "186dd6d6-c243-4b0e-96d0-d5aba3484d95",
   "metadata": {},
   "outputs": [],
   "source": [
    "#Control statement\n",
    "#break \n",
    "#continue\n",
    "#pass\n"
   ]
  },
  {
   "cell_type": "code",
   "execution_count": 13,
   "id": "adcc9fc0-2bb9-43e6-943f-f955ad8b97c1",
   "metadata": {},
   "outputs": [
    {
     "name": "stdout",
     "output_type": "stream",
     "text": [
      "0\n",
      "1\n",
      "2\n",
      "3\n",
      "4\n"
     ]
    }
   ],
   "source": [
    "#brreak\n",
    "for i in range(10):\n",
    "    if i == 5:\n",
    "        break\n",
    "    print(i)\n"
   ]
  },
  {
   "cell_type": "code",
   "execution_count": 18,
   "id": "54ab21d3-bfd4-4e5a-b15e-e049f9866077",
   "metadata": {},
   "outputs": [
    {
     "name": "stdout",
     "output_type": "stream",
     "text": [
      "Hello World"
     ]
    }
   ],
   "source": [
    "a = \"Hello World. I am python.\"\n",
    "for i in a:\n",
    "    if i == \".\":\n",
    "        break\n",
    "    print(i,end = \"\")"
   ]
  },
  {
   "cell_type": "code",
   "execution_count": null,
   "id": "f8f1b0e1-5932-46cc-aaf1-5c01c9bc1dc9",
   "metadata": {},
   "outputs": [],
   "source": []
  },
  {
   "cell_type": "code",
   "execution_count": 20,
   "id": "db59d95c-5838-4116-88a3-310cbbef234d",
   "metadata": {},
   "outputs": [
    {
     "name": "stdout",
     "output_type": "stream",
     "text": [
      "0 1 2 3 4 "
     ]
    },
    {
     "ename": "NameError",
     "evalue": "name 'contiune' is not defined",
     "output_type": "error",
     "traceback": [
      "\u001b[1;31m---------------------------------------------------------------------------\u001b[0m",
      "\u001b[1;31mNameError\u001b[0m                                 Traceback (most recent call last)",
      "Cell \u001b[1;32mIn[20], line 4\u001b[0m\n\u001b[0;32m      2\u001b[0m \u001b[38;5;28;01mfor\u001b[39;00m i \u001b[38;5;129;01min\u001b[39;00m \u001b[38;5;28mrange\u001b[39m(\u001b[38;5;241m10\u001b[39m):\n\u001b[0;32m      3\u001b[0m     \u001b[38;5;28;01mif\u001b[39;00m i \u001b[38;5;241m==\u001b[39m \u001b[38;5;241m5\u001b[39m:\n\u001b[1;32m----> 4\u001b[0m       \u001b[43mcontiune\u001b[49m\n\u001b[0;32m      5\u001b[0m     \u001b[38;5;28mprint\u001b[39m(i, end \u001b[38;5;241m=\u001b[39m \u001b[38;5;124m\"\u001b[39m\u001b[38;5;124m \u001b[39m\u001b[38;5;124m\"\u001b[39m)    \n",
      "\u001b[1;31mNameError\u001b[0m: name 'contiune' is not defined"
     ]
    }
   ],
   "source": []
  },
  {
   "cell_type": "code",
   "execution_count": null,
   "id": "45338cb5-d99b-46ee-a7b4-5842f56e7bcc",
   "metadata": {},
   "outputs": [],
   "source": []
  }
 ],
 "metadata": {
  "kernelspec": {
   "display_name": "Python 3 (ipykernel)",
   "language": "python",
   "name": "python3"
  },
  "language_info": {
   "codemirror_mode": {
    "name": "ipython",
    "version": 3
   },
   "file_extension": ".py",
   "mimetype": "text/x-python",
   "name": "python",
   "nbconvert_exporter": "python",
   "pygments_lexer": "ipython3",
   "version": "3.12.2"
  }
 },
 "nbformat": 4,
 "nbformat_minor": 5
}
